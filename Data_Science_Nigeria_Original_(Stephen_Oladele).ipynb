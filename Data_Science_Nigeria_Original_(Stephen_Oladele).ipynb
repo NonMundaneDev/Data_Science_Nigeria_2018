{
  "nbformat": 4,
  "nbformat_minor": 0,
  "metadata": {
    "kernelspec": {
      "display_name": "Python 3",
      "language": "python",
      "name": "python3"
    },
    "language_info": {
      "codemirror_mode": {
        "name": "ipython",
        "version": 3
      },
      "file_extension": ".py",
      "mimetype": "text/x-python",
      "name": "python",
      "nbconvert_exporter": "python",
      "pygments_lexer": "ipython3",
      "version": "3.6.5"
    },
    "colab": {
      "name": "Data Science Nigeria Original (Stephen Oladele).ipynb",
      "provenance": [],
      "include_colab_link": true
    }
  },
  "cells": [
    {
      "cell_type": "markdown",
      "metadata": {
        "id": "view-in-github",
        "colab_type": "text"
      },
      "source": [
        "<a href=\"https://colab.research.google.com/github/NonMundaneDev/Data_Science_Nigeria_2018/blob/main/Data_Science_Nigeria_Original_(Stephen_Oladele).ipynb\" target=\"_parent\"><img src=\"https://colab.research.google.com/assets/colab-badge.svg\" alt=\"Open In Colab\"/></a>"
      ]
    },
    {
      "cell_type": "code",
      "metadata": {
        "id": "Lo09s2KS_t_t",
        "outputId": "dd19755d-e435-4aa5-bdba-02c7078e8568"
      },
      "source": [
        "# Import our helper libraries\n",
        "# Pandas will be used to load up our data and also for our 'data crunching'\n",
        "# Numpy will be used for our number crunching\n",
        "# matplotlib will be used for our visualization\n",
        "# We might also use tensorflow, so we should import it (you can ignore this library if you don't have a good computational power, we might not need it)\n",
        "\n",
        "\n",
        "import pandas as pd\n",
        "import numpy as np\n",
        "import tensorflow as tf\n",
        "import matplotlib.pyplot as plt\n",
        "\n",
        "\n",
        "%matplotlib inline  \n",
        "# The above line of code sets Jupyter as the backend for the plots from matplotlib. "
      ],
      "execution_count": null,
      "outputs": [
        {
          "output_type": "stream",
          "text": [
            "C:\\Users\\PC\\Anaconda3\\envs\\tfp3.6\\lib\\site-packages\\h5py\\__init__.py:36: FutureWarning: Conversion of the second argument of issubdtype from `float` to `np.floating` is deprecated. In future, it will be treated as `np.float64 == np.dtype(float).type`.\n",
            "  from ._conv import register_converters as _register_converters\n"
          ],
          "name": "stderr"
        }
      ]
    },
    {
      "cell_type": "code",
      "metadata": {
        "id": "enEwBAsr_t_x"
      },
      "source": [
        "# Here will we use pandas to read in our data. You should have downloaded 'train.csv' and 'test.csv', I believe.\n",
        "# The 'read_csv' function is used to import csv files into pandas (for this to work, make sure your data is in the same\n",
        "# folder as your project (if you are using Jupyter notebook)\n",
        "\n",
        "train_set = pd.read_csv(\"train.csv\")"
      ],
      "execution_count": null,
      "outputs": []
    },
    {
      "cell_type": "code",
      "metadata": {
        "id": "-W6CDrPU_t_z"
      },
      "source": [
        "# Check the first 5 rows of your data with the `.head()` function from the Pandas library\n",
        "# It is a good idea to have a domain knowledge of your data for appropriate data cleaning\n",
        "\n",
        "train_set.head()"
      ],
      "execution_count": null,
      "outputs": []
    },
    {
      "cell_type": "code",
      "metadata": {
        "id": "AOctAgXX_t_0"
      },
      "source": [
        "# Here we are importing the test data set\n",
        "test_set = pd.read_csv(\"test.csv\")"
      ],
      "execution_count": null,
      "outputs": []
    },
    {
      "cell_type": "code",
      "metadata": {
        "id": "wFSxew2-_t_1"
      },
      "source": [
        "# The below codes are assigning creating new cols and assigning the strings on the right to the new column.\n",
        "\n",
        "train_set['original_entry']='training_data'\n",
        "test_set['original_entry']='test_data'"
      ],
      "execution_count": null,
      "outputs": []
    },
    {
      "cell_type": "code",
      "metadata": {
        "id": "fAkXkDO0_t_1"
      },
      "source": [
        "# We can now join both sets togther using Pandas conccatenate (means joining) with `.concat()` function\n",
        "\n",
        "supermarket_data = pd.concat([train_set, test_set],ignore_index=True, sort = False)"
      ],
      "execution_count": null,
      "outputs": []
    },
    {
      "cell_type": "markdown",
      "metadata": {
        "id": "3mAvekTjAKzz"
      },
      "source": [
        "After reading in and undertstanding your domain problem, you can now check for missing values using `.isnull()` function\r\n",
        "and adding up all missing values for clearer analysis with `.sum()` function."
      ]
    },
    {
      "cell_type": "code",
      "metadata": {
        "id": "1bRortp6_t_1"
      },
      "source": [
        "supermarket_data.isnull().sum()"
      ],
      "execution_count": null,
      "outputs": []
    },
    {
      "cell_type": "code",
      "metadata": {
        "id": "5GWnd2lc_t_2"
      },
      "source": [
        "supermarket_data.describe()"
      ],
      "execution_count": null,
      "outputs": []
    },
    {
      "cell_type": "markdown",
      "metadata": {
        "id": "qvtLH8igAHT0"
      },
      "source": [
        "1. First of all we need to know what cat columns will be useful for us.\r\n",
        "2. For our prouct_identifier will be very useful, Supermarket_Identifier will also be useful\r\n",
        "\r\n",
        "3. Also our X(Product_Supermarket_Identifier)  for the final submission, will be quite useful.\r\n",
        "\r\n",
        "4. While cleaning our data, we will group our product_type and 'one-hot encode it', basically turn it into a...\r\n",
        " ... vector that our model can read\r\n",
        "5. Other features we will one-hot encode include Supermarket_Location_Type, Supermarket _Size, Supermarket _Type\r\n",
        "6. Also since there is a reasonable amount of groupoing for Product _Fat_Content, we can also group into...\r\n",
        "... dictionary keys, that we will later encode too.\r\n",
        "Bear in mind, that Product _Fat_Content is not a feature that will help us a lot. So we will drop it later\r\n",
        "\r\n",
        "Filter categorical variables\r\n",
        "\r\n",
        "We will use list comprehension method (for joining conditional statements and a for loop together in a list)\r\n",
        "\r\n",
        "The below line simply states that, for x in our data (read the data types), if any feature has 'object' as its\r\n",
        "datatype, assign that feature to x (which is a list) --> therefore our list (categorical_features) \r\n",
        "will be features that have datatype 'object'"
      ]
    },
    {
      "cell_type": "code",
      "metadata": {
        "id": "qTru-03dAZvq"
      },
      "source": [
        "cat_cols = [x for x in supermarket_data.dtypes.index if supermarket_data.dtypes[x]=='object']"
      ],
      "execution_count": null,
      "outputs": []
    },
    {
      "cell_type": "markdown",
      "metadata": {
        "id": "hllpX-I4AUoC"
      },
      "source": [
        "We are doing this so we can work with our identifier columns as non-categorical across our code\r\n",
        "and also our 'original_entry' columns, because they are identifier columns ('training_set' and 'test_set'), and they..\r\n",
        "... don't really have much to do with the code.\r\n",
        "\r\n",
        "For our new list (features with datatype object) in categorcial_features, exclude all features that are...\r\n",
        "...['original_entry', 'Product_Identifier','Supermarket_Identifier', 'Product_Supermarket_Identifier'] from categorical_features"
      ]
    },
    {
      "cell_type": "code",
      "metadata": {
        "collapsed": true,
        "id": "3L9zZ3r7_t_2",
        "outputId": "fef9406f-4281-483f-a456-e5db2c7d7537"
      },
      "source": [
        "cat_cols = [x for x in cat_cols if x not in ['original_entry', 'Product_Identifier','Supermarket_Identifier', 'Product_Supermarket_Identifier']]\n",
        "\n",
        "# Use a for loop to iterate through the list, in cat_cols (that is, our categorical columns)\n",
        "for col in cat_cols:\n",
        "    print('\\n')   # Print new line\n",
        "    print('Frequency of Categories for varible {}'.format(col)) # Print the frequency of occurence for categories in each\n",
        "                                                                # ... new categorical column -- > as a string\n",
        "    print(supermarket_data[col].value_counts())  # The actual 'frequency of occurence' line of code, using 'value_counts()' function\n",
        "    "
      ],
      "execution_count": null,
      "outputs": [
        {
          "output_type": "stream",
          "text": [
            "\n",
            "\n",
            "Frequency of Categories for varible Product_Fat_Content\n",
            "Low Fat          5200\n",
            "Normal Fat       3006\n",
            "Ultra Low fat     316\n",
            "Name: Product_Fat_Content, dtype: int64\n",
            "\n",
            "\n",
            "Frequency of Categories for varible Product_Type\n",
            "Fruits and Vegetables    1232\n",
            "Snack Foods              1200\n",
            "Household                 909\n",
            "Frozen Foods              856\n",
            "Dairy                     682\n",
            "Canned                    649\n",
            "Baking Goods              648\n",
            "Health and Hygiene        520\n",
            "Soft Drinks               445\n",
            "Meat                      425\n",
            "Breads                    251\n",
            "Hard Drinks               214\n",
            "Others                    169\n",
            "Starchy Foods             148\n",
            "Breakfast                 110\n",
            "Seafood                    64\n",
            "Name: Product_Type, dtype: int64\n",
            "\n",
            "\n",
            "Frequency of Categories for varible Supermarket _Size\n",
            "Medium    2793\n",
            "Small     2388\n",
            "High       932\n",
            "Name: Supermarket _Size, dtype: int64\n",
            "\n",
            "\n",
            "Frequency of Categories for varible Supermarket_Location_Type\n",
            "Cluster 3    3349\n",
            "Cluster 2    2785\n",
            "Cluster 1    2388\n",
            "Name: Supermarket_Location_Type, dtype: int64\n",
            "\n",
            "\n",
            "Frequency of Categories for varible Supermarket_Type\n",
            "Supermarket Type1    5577\n",
            "Grocery Store        1082\n",
            "Supermarket Type3     935\n",
            "Supermarket Type2     928\n",
            "Name: Supermarket_Type, dtype: int64\n"
          ],
          "name": "stdout"
        }
      ]
    },
    {
      "cell_type": "code",
      "metadata": {
        "id": "Xl9OFcre_t_3"
      },
      "source": [
        "# Visualize your continous (numeric) data with matplotlib in an histogram using a histogram plot\n",
        "\n",
        "supermarket_data.hist(bins=20, figsize = (20, 16));"
      ],
      "execution_count": null,
      "outputs": []
    },
    {
      "cell_type": "markdown",
      "metadata": {
        "id": "HyejdmFMAdhJ"
      },
      "source": [
        "Now that doesn't make too much sense, right? Now let's visualize the data correlation with the '.corr()' function\r\n"
      ]
    },
    {
      "cell_type": "code",
      "metadata": {
        "id": "rFPVlqwV_t_4"
      },
      "source": [
        "supermarket_data.corr()\n",
        "\n"
      ],
      "execution_count": null,
      "outputs": []
    },
    {
      "cell_type": "markdown",
      "metadata": {
        "id": "o_lUMWmmAg66"
      },
      "source": [
        "As we will see from the output, there is a correlation between 'Product_Price' and 'Product_Supermarket_Sales'\r\n",
        "An increase in product price leads to an increase in the supermarket sales. Interesting!"
      ]
    },
    {
      "cell_type": "code",
      "metadata": {
        "id": "SFe2Wu6z_t_4"
      },
      "source": [
        "# Let's make a plot to visualize the correlation between product price and supermarket price.\n",
        "supermarket_data.plot(kind='scatter', x='Product_Price', y='Product_Supermarket_Sales')"
      ],
      "execution_count": null,
      "outputs": []
    },
    {
      "cell_type": "markdown",
      "metadata": {
        "id": "0OJemDWTAlco"
      },
      "source": [
        "Rememeber those missing values? Yeah! Let's check 'em out, shall we."
      ]
    },
    {
      "cell_type": "code",
      "metadata": {
        "id": "OwF6oLws_t_5"
      },
      "source": [
        "supermarket_data.isnull().sum()"
      ],
      "execution_count": null,
      "outputs": []
    },
    {
      "cell_type": "markdown",
      "metadata": {
        "id": "4yI5LZ4FAoTv"
      },
      "source": [
        "From our output, we should see that we have numerous missing values in 'Product_Weight' and 'Supermarket _Size' columns\r\n",
        "You can ignore the missing values in 'Product_Supermarket_Sales', these are from our test set, where we drop our label."
      ]
    },
    {
      "cell_type": "code",
      "metadata": {
        "id": "VqEFOvJv_t_6"
      },
      "source": [
        "# So we have seen the missing values, yeah? Let's deal with them one at a time."
      ],
      "execution_count": null,
      "outputs": []
    },
    {
      "cell_type": "markdown",
      "metadata": {
        "id": "HzYQuowWAuVj"
      },
      "source": [
        "First off, our 'Product_Weight'!\r\n",
        "If you check the table, you will see that 'Product_Weight' is a continous value (numeric), so it will be reasonable enough...\r\n",
        "... to fill all missing values with the mean of 'Product_Weight', like every other project, right? Ehm... there is a problem\r\n",
        "The missing values are quite much, if we fill it in with the mean of the coulmn, then we wil have too much of a similar value...\r\n",
        "... which isn't good for our data, and of course for our analysis.\r\n",
        "\r\n",
        "So one way we can use a rather more 'distributed' mean is to group our 'Product_Weight' cplumn with respect to a distrubted...\r\n",
        "... category in 'Product_Identifier', so we can have a more distubuted average across the missing 'Product_Weight' column"
      ]
    },
    {
      "cell_type": "code",
      "metadata": {
        "id": "0AtG1IQI_t_7"
      },
      "source": [
        "# We can use the line of code below to group the two columns together and find the mean (average) of each category\n",
        "\n",
        "product_wt_average =supermarket_data.groupby('Product_Identifier')['Product_Weight'].mean()"
      ],
      "execution_count": null,
      "outputs": []
    },
    {
      "cell_type": "markdown",
      "metadata": {
        "id": "cnMEauzEAx4Y"
      },
      "source": [
        "Now of course, we do not have missing values in all of our 'Product_Weight' column, so we need to specify where our...\r\n",
        "... computed average will go\r\n",
        "\r\n",
        "Well, one of the many ways we can do this is to 'fill' all the missing values with something. So we will use that thing...\r\n",
        "... to exempt missing values from actual values. Observe...\r\n"
      ]
    },
    {
      "cell_type": "code",
      "metadata": {
        "id": "70hT092O_t_8"
      },
      "source": [
        "\n",
        "supermarket_data.Product_Weight.fillna('Missing', inplace = True)\n",
        "\n",
        "# `.fillna()` function essentially does the opposite of `.dropna()` function. That is, it fils the null data, or missing values with\n",
        "# ... the provided argument. 'inplace = True', states that it shouls be implemented in the data across every cell."
      ],
      "execution_count": null,
      "outputs": []
    },
    {
      "cell_type": "markdown",
      "metadata": {
        "id": "89VnOQD7A0_W"
      },
      "source": [
        "This cell of code uses a for loop to iterartes over the rows (using `.iterrows()` function) in our data set with labels 'col' and 'row'\r\n",
        "The conditional statments says that during iteration over Product_Weight rows, if we see 'Missing'\r\n",
        "... assign product_wt_average from each Product_Identifier row to the Product_Weight column\r\n",
        "We achieve this using the '.loc[]' function of course."
      ]
    },
    {
      "cell_type": "code",
      "metadata": {
        "id": "cYnC_7LG_t_8",
        "outputId": "7df9ebf6-4037-4d04-9712-070efbc12886"
      },
      "source": [
        "for col, row in supermarket_data.iterrows():\n",
        "    if(row.Product_Weight == 'Missing'):\n",
        "        supermarket_data.loc[col, 'Product_Weight'] = product_wt_average[row.Product_Identifier]\n",
        "        \n",
        "\n",
        "# Print the number of missing values now.        \n",
        "print ('Final missing values are {} in number.'.format(sum(supermarket_data['Product_Weight'].isnull())))"
      ],
      "execution_count": null,
      "outputs": [
        {
          "output_type": "stream",
          "text": [
            "Final missing values are 4 in number.\n"
          ],
          "name": "stdout"
        }
      ]
    },
    {
      "cell_type": "code",
      "metadata": {
        "id": "u4tgZS0V_t_9",
        "outputId": "2aec217f-d6e1-4e54-a842-5b64177c1582"
      },
      "source": [
        "# As we can see, we still have 4 missing values, so we can manually fill them in with perhaps the mean of our column Product_Weight\n",
        "\n",
        "supermarket_data.Product_Weight.fillna(supermarket_data.Product_Weight.mean(), inplace = True)\n",
        "\n",
        "# Now print final missing values...\n",
        "print ('Final missing values are {} in number.'.format(sum(supermarket_data['Product_Weight'].isnull())))"
      ],
      "execution_count": null,
      "outputs": [
        {
          "output_type": "stream",
          "text": [
            "Final missing values are 0 in number.\n"
          ],
          "name": "stdout"
        }
      ]
    },
    {
      "cell_type": "markdown",
      "metadata": {
        "id": "UJlf3m2xA5-3"
      },
      "source": [
        "So yes! We have cleaned up that data section of ours. Now lets move on to the next missing value 'Supermarket _Size'!\r\n",
        "\r\n",
        "Understanding the data\r\n",
        "First step to understanding our data is to know the domain problem, yeah?\r\n",
        "But after understanding the domain problem, we can move on to the data itsef, its columns.\r\n",
        "\r\n",
        "First step to understanding the columns is to know what type of columns we are dealing with. Whether continous (numeric) or...\r\n",
        "... categorical columns (with non-numeric data types like strings, objects)\r\n",
        "\r\n",
        "After glancing through your data for confirmation, you can proceed... If its a numeric column, you'll deal with it as is.\r\n",
        "If it is a categorical column,  you will confirm if there is one or multiple categories in the column. If there is just one, \r\n",
        "... you'll deal with it as is. If there are multiple [categories], you'll have a find a correlation between categories in...\r\n",
        "... the same column or across different columns, this should be your first line of thought when trying to clean your data...\r\n",
        "... but then again, it all depends on the domain problem and your understanding of the domain problem."
      ]
    },
    {
      "cell_type": "code",
      "metadata": {
        "id": "c7SSX9fU_t__"
      },
      "source": [
        "# Back to treating our missing values\n",
        "\n",
        "# Now lets check our column category(s) and with...\n",
        "\n",
        "print(supermarket_data['Supermarket _Size'].value_counts())\n",
        "print('\\n')  # Print new line\n",
        "\n",
        "# ... and the size with...\n",
        "print('Total column number:')\n",
        "print(supermarket_data['Supermarket _Size'].count())"
      ],
      "execution_count": null,
      "outputs": []
    },
    {
      "cell_type": "markdown",
      "metadata": {
        "id": "OkQnQkyNBADs"
      },
      "source": [
        " Now we can use the same fix we did for 'Product_Weight' for 'Supermarket _Size', right? Ehm... there's a problem\r\n",
        "Product_Weight and Supermarket _Size are not the same column type. One is continous and the other is categorical.\r\n",
        "\r\n",
        "From basic stats, we should know that we can only compute the average (mean) for numbers and not texts. We also cannot use the median for texts (strings) right? (at least literally).\r\n",
        "\r\n",
        "But hey! What about our forgotten buddy Mode? He can certainly be used, eh? Because it is all about frequency of occurence over number crunching.\r\n",
        "\r\n",
        "Now why should we go this route? Good enough you asked. We can take advantage of the frequency of occurence of each of the categories.\r\n",
        "\r\n",
        "From our cell above, the 'Medium' category has the highest frequency of occurence, we can defintely fill our missing values with 'Medium', yeah? This begs a slight issue, there is a relatively minor difference betwee the occurence of 'Medium' and 'Small' category. But hey! \r\n",
        "\r\n",
        "Filling the missing values with 'Medium' shouldn't cause us any problem much. Later these categorieswill be one-hot encoded (we'll discuss this later) for our model to read them. But just for a heads up, incase you havea similar data set that have two categories that are quite close in occurence frequency, try a random distribution for filling the missing values.\r\n"
      ]
    },
    {
      "cell_type": "markdown",
      "metadata": {
        "id": "_OD7IWApBXNc"
      },
      "source": [
        "So first off, just like we grouped the product ID with the the product weight, we can also do the same with supermarket size\r\n",
        "But now we will use the supermarket_id. We will group the supermarket size by the supermarket id, so we can see each \r\n",
        "supermarket that has missing values in its row, then we will place our 'Medium' value there."
      ]
    },
    {
      "cell_type": "code",
      "metadata": {
        "id": "otMwtTZH_uAB"
      },
      "source": [
        "# Observe...\n",
        "\n",
        "print(supermarket_data.groupby('Supermarket_Identifier')['Supermarket _Size'].value_counts(dropna=False))"
      ],
      "execution_count": null,
      "outputs": []
    },
    {
      "cell_type": "code",
      "metadata": {
        "id": "NqknJZfg_uAB"
      },
      "source": [
        "# Hey look, we can see that there are only three supermarkets with missing values in their rows...\n",
        "\n",
        "# CHUKWUDI010, CHUKWUDI017, CHUKWUDI045"
      ],
      "execution_count": null,
      "outputs": []
    },
    {
      "cell_type": "code",
      "metadata": {
        "id": "v_bkkAtH_uAB"
      },
      "source": [
        "# Now let's fill the missing values in these supermarket_Id with the 'Medium' value\n",
        "\n",
        "supermarket_data.loc[supermarket_data.Supermarket_Identifier.isin(['CHUKWUDI010','CHUKWUDI017','CHUKWUDI045']), 'Supermarket _Size'] = 'Medium'"
      ],
      "execution_count": null,
      "outputs": []
    },
    {
      "cell_type": "code",
      "metadata": {
        "id": "38eqVOPV_uAB"
      },
      "source": [
        "# Now let's make a category count of our Supermarket Size\n",
        "\n",
        "supermarket_data['Supermarket _Size'].value_counts()"
      ],
      "execution_count": null,
      "outputs": []
    },
    {
      "cell_type": "code",
      "metadata": {
        "id": "yPAeikhh_uAC"
      },
      "source": [
        "# Handling the 'weird' values (ehm... not outliers, but creepy wierd values)\n",
        "\n",
        "# Let's take a look at our data description again, shall we.\n",
        "supermarket_data.describe()"
      ],
      "execution_count": null,
      "outputs": []
    },
    {
      "cell_type": "markdown",
      "metadata": {
        "id": "FUJp0hV7BaKc"
      },
      "source": [
        "Everything looks good and 'floaty', right? Ehm... check back.\r\n",
        "I hope you have seen the minimum value of the 'Product_Shelf_Visibility'. How possible is it that even one product that...\r\n",
        "... is meant to be on sale won't be displayed at all? How possible!? This must be wierd. Okay you might be saying...\r\n",
        "... maybe the sales guys didn't do their job, but lets assume they didn't, or did, oh please! let's fix this already."
      ]
    },
    {
      "cell_type": "markdown",
      "metadata": {
        "id": "iAXuUmHdBewr"
      },
      "source": [
        "Okay what we are going to do is to fix this? The logic here will be something you are familiar with, here it comes...\r\n",
        "Get rid of all the 0s and replace them with a distributed mean (or average)\r\n",
        "\r\n",
        "The below line of code groups our Product_Identifier by Product_Shelf_Visibility, computes the mean, and assigns it to \r\n",
        "... 'ID_average_per_visibility' variable\r\n",
        "\r\n",
        "Another point to note is that when the mean is being computed, it ignores the 0 values, but acknowlegdes the NaN values and sets...\r\n",
        "... them to true by default."
      ]
    },
    {
      "cell_type": "code",
      "metadata": {
        "id": "CxVkk7A2_uAC"
      },
      "source": [
        "ID_average_per_visibility = supermarket_data.groupby('Product_Identifier').Product_Shelf_Visibility.mean()"
      ],
      "execution_count": null,
      "outputs": []
    },
    {
      "cell_type": "code",
      "metadata": {
        "id": "80dkhkve_uAD"
      },
      "source": [
        "# The below line just states that anywhere we see '0' in Product_Shelf_Visibility, replace with a 'np.nan' or NaN value\n",
        "\n",
        "supermarket_data.loc[supermarket_data.Product_Shelf_Visibility == 0, 'Product_Shelf_Visibility'] = np.nan"
      ],
      "execution_count": null,
      "outputs": []
    },
    {
      "cell_type": "code",
      "metadata": {
        "id": "CIZ_O3a2_uAD",
        "outputId": "5e9ebdfa-b8bb-4f47-cb07-e135b1312a2f"
      },
      "source": [
        "# Just like we did before, we will fill the NaN values with 'NaN'\n",
        "\n",
        "supermarket_data.Product_Shelf_Visibility.fillna('NaN', inplace=True)\n",
        "\n",
        "# Also just like last time, create a for loop to iterate the rows and replace them with\n",
        "for col, row in supermarket_data.iterrows():\n",
        "    if(row.Product_Shelf_Visibility == 'NaN'):\n",
        "        supermarket_data.loc[col, 'Product_Shelf_Visibility'] = ID_average_per_visibility[row.Product_Identifier]\n",
        "        \n",
        "        \n",
        "supermarket_data['Product_Shelf_Visibility'].describe()\n",
        "\n",
        "# Now you can see our min value is not 0 any longer\n",
        "# Now we have something reasonable, we can reckon.\n",
        "# For some reason, if you do not see the description after the first cell run, run it again (that is, run the cell twice)"
      ],
      "execution_count": null,
      "outputs": [
        {
          "output_type": "execute_result",
          "data": {
            "text/plain": [
              "count    8522.000000\n",
              "mean        0.069673\n",
              "std         0.049812\n",
              "min         0.003575\n",
              "25%         0.031114\n",
              "50%         0.056932\n",
              "75%         0.097173\n",
              "max         0.328391\n",
              "Name: Product_Shelf_Visibility, dtype: float64"
            ]
          },
          "metadata": {
            "tags": []
          },
          "execution_count": 15
        }
      ]
    },
    {
      "cell_type": "markdown",
      "metadata": {
        "id": "JDvFEXtcBm88"
      },
      "source": [
        "So the next thing we are going to do is to look at the product categories\r\n",
        "\r\n",
        "So it took me a lot of time to figure this out, but I eventually did."
      ]
    },
    {
      "cell_type": "code",
      "metadata": {
        "id": "S6oggJBS_uAD"
      },
      "source": [
        "\n",
        "# Let's take a look at our data set again, shall we, but this time just the product identifier column...\n",
        "supermarket_data.Product_Identifier.value_counts()"
      ],
      "execution_count": null,
      "outputs": []
    },
    {
      "cell_type": "markdown",
      "metadata": {
        "id": "tBMOBFhJBotU"
      },
      "source": [
        "This suggestion was pulled off a reply from someone in article on a similar project from the net. The author talked about patterns in data.\r\n",
        "If you observe, you can see that for the Product_Identifier, we can see strings like 'FDW13', 'DRF48', 'NCW05'...\r\n",
        "\r\n",
        "Now if we observe, again, we can see that although the categories are numerous, but they all have one thing in common..\r\n",
        "... all of them have their first two characters start with either 'FD'(which we can translate to Food product), or 'DR'...\r\n",
        "... which we can translate to drinks product, and 'NC' which we can translate to non-consumable products. These are pracically the...\r\n",
        "... product types that we can find in the supermart, so yeah, I think we are on the right track.\r\n",
        "\r\n",
        "We can group all the 'FD', 'DR' and 'NC' products into one category, so we won't have to deal with the product diversity of...\r\n",
        "... 'soft drinks', 'Fruits and Vegetables', 'Health and Hygiene', 'Breads' e.t.c Oh! Thank goodness, the data is making us more efficient. Great!"
      ]
    },
    {
      "cell_type": "markdown",
      "metadata": {
        "id": "GXskb_3gBuwe"
      },
      "source": [
        "But before we can start assgining categories, we need to first plug out the first two charcters of each Product_Identifier\r\n",
        "category, since the first two characters (like FD, NC, DR) represents how we will categorie our product type.\r\n",
        "\r\n",
        "We will do this by creating a custom lambda function"
      ]
    },
    {
      "cell_type": "code",
      "metadata": {
        "id": "YNTDgvdA_uAE"
      },
      "source": [
        "# Using the custom lambda function, we can extract the first two characters in our product_id categories\n",
        "\n",
        "# Let's create a variable that we will pass to our function lambda (most times called an anonymous function)\n",
        "two_chars = 'First Two Characters in product id categories'\n",
        "\n",
        "\n"
      ],
      "execution_count": null,
      "outputs": []
    },
    {
      "cell_type": "markdown",
      "metadata": {
        "id": "uNMZOR1kB2Gw"
      },
      "source": [
        "We are creating a new column called 'Combined_Product_Type', where we will pass our first two characters (FD, DR, NC) categories into\r\n",
        "The `.apply()` function ensures that its argument(lambda) gets applied to their corresponding parent values\r\n",
        "For example, FD was extracted from FDW13, so they should be on the same row."
      ]
    },
    {
      "cell_type": "code",
      "metadata": {
        "id": "Yf-MLqjhB0My"
      },
      "source": [
        "\r\n",
        "\r\n",
        "supermarket_data['Combined_Product_Type'] = supermarket_data['Product_Identifier'].apply(lambda two_chars: two_chars[0:2])"
      ],
      "execution_count": null,
      "outputs": []
    },
    {
      "cell_type": "code",
      "metadata": {
        "id": "xUKwfK_V_uAE"
      },
      "source": [
        "supermarket_data.head()"
      ],
      "execution_count": null,
      "outputs": []
    },
    {
      "cell_type": "code",
      "metadata": {
        "id": "6JOgOn3i_uAF"
      },
      "source": [
        "# Now if we check the value count of our new column 'Combined_Product_Type', we will see the assigned characters.\n",
        "\n",
        "supermarket_data.Combined_Product_Type.value_counts()"
      ],
      "execution_count": null,
      "outputs": []
    },
    {
      "cell_type": "markdown",
      "metadata": {
        "id": "u96bw7e1B-0b"
      },
      "source": [
        "Okay so we've gotten this far! Phew! Congrats, you can take a break, a good coffee, and get back in few minutes.\r\n",
        "\r\n",
        "I will wait... :)\r\n",
        "\r\n",
        "\r\n",
        "So yes, welcome back. Really hope you enjoyed your break, if you took any."
      ]
    },
    {
      "cell_type": "markdown",
      "metadata": {
        "id": "QSiA3t8sCFI-"
      },
      "source": [
        "Alright so the next thing we are going to do is to define what 'FD', 'DR', 'NC'... we might know what they mean, but our system doesn't!\r\n",
        "The system reads them as literals (or unibyte, our '8-bit' of awesome wondass! Yas!), so it doesn't know jackshit about what you are giving it,\r\n",
        "... and therefore cannot make sense out of it (unless it is Machine-Learning-System type of cool! :D)\r\n",
        "\r\n",
        "One rule of programming is that you should not expect your systme, or project or whatever to kmow what you do. Like everything else,\r\n",
        "... it's only an algorithm (following sets of intsructions to be, or not to be executed).\r\n",
        "\r\n",
        "Luckily for us, our dear Python has a way for us to define key words, using what's called dictionaries\r\n",
        "Like every other dictionary you know, Py's is no different. It has a key word, and a value (or definition)"
      ]
    },
    {
      "cell_type": "code",
      "metadata": {
        "id": "0uY38JOj_uAF"
      },
      "source": [
        "# Let's create the dictionary and assign it to a varaiable 'Combined_Product_Type_Dic'\n",
        "\n",
        "Combined_Product_Type_Dic = {'DR': 'Drinks',\n",
        "                             'FD':'Food',\n",
        "                             'NC':'Non-Consumable'}"
      ],
      "execution_count": null,
      "outputs": []
    },
    {
      "cell_type": "code",
      "metadata": {
        "id": "xNnbc-gc_uAG"
      },
      "source": [
        "# Great job creating your very own dictionary. Now you can compete with the likes of Oxford dictionaries, I reckon! :)"
      ],
      "execution_count": null,
      "outputs": []
    },
    {
      "cell_type": "code",
      "metadata": {
        "id": "r6EpwnyM_uAG"
      },
      "source": [
        "# Alright, so the next thing we are going to do is to 'map' our created dictionaries definitions to our Combined_Product_Type that contain\n",
        "# ... the key words using the Pandas `.map()` function.\n",
        "\n",
        "supermarket_data['Combined_Product_Type'] = supermarket_data.Combined_Product_Type.map(Combined_Product_Type_Dic)"
      ],
      "execution_count": null,
      "outputs": []
    },
    {
      "cell_type": "code",
      "metadata": {
        "collapsed": true,
        "id": "LTFxxwSt_uAG",
        "outputId": "d88fd760-88a6-45fd-e5b7-5ee76c077494"
      },
      "source": [
        "# Now if we print our new column, we will see our values, from Drinks... to Non-Conusmables. Food is just right in between,\n",
        "# You might not see it in the column preview.\n",
        "\n",
        "supermarket_data.Combined_Product_Type"
      ],
      "execution_count": null,
      "outputs": [
        {
          "output_type": "execute_result",
          "data": {
            "text/plain": [
              "0               Drinks\n",
              "1               Drinks\n",
              "2               Drinks\n",
              "3               Drinks\n",
              "4               Drinks\n",
              "5               Drinks\n",
              "6               Drinks\n",
              "7               Drinks\n",
              "8               Drinks\n",
              "9               Drinks\n",
              "10              Drinks\n",
              "11              Drinks\n",
              "12              Drinks\n",
              "13              Drinks\n",
              "14              Drinks\n",
              "15              Drinks\n",
              "16              Drinks\n",
              "17              Drinks\n",
              "18              Drinks\n",
              "19              Drinks\n",
              "20              Drinks\n",
              "21              Drinks\n",
              "22              Drinks\n",
              "23              Drinks\n",
              "24              Drinks\n",
              "25              Drinks\n",
              "26              Drinks\n",
              "27              Drinks\n",
              "28              Drinks\n",
              "29              Drinks\n",
              "             ...      \n",
              "8492    Non-Consumable\n",
              "8493    Non-Consumable\n",
              "8494    Non-Consumable\n",
              "8495    Non-Consumable\n",
              "8496    Non-Consumable\n",
              "8497    Non-Consumable\n",
              "8498    Non-Consumable\n",
              "8499    Non-Consumable\n",
              "8500    Non-Consumable\n",
              "8501    Non-Consumable\n",
              "8502    Non-Consumable\n",
              "8503    Non-Consumable\n",
              "8504    Non-Consumable\n",
              "8505    Non-Consumable\n",
              "8506    Non-Consumable\n",
              "8507    Non-Consumable\n",
              "8508    Non-Consumable\n",
              "8509    Non-Consumable\n",
              "8510    Non-Consumable\n",
              "8511    Non-Consumable\n",
              "8512    Non-Consumable\n",
              "8513    Non-Consumable\n",
              "8514    Non-Consumable\n",
              "8515    Non-Consumable\n",
              "8516    Non-Consumable\n",
              "8517    Non-Consumable\n",
              "8518    Non-Consumable\n",
              "8519    Non-Consumable\n",
              "8520    Non-Consumable\n",
              "8521    Non-Consumable\n",
              "Name: Combined_Product_Type, Length: 8522, dtype: object"
            ]
          },
          "metadata": {
            "tags": []
          },
          "execution_count": 19
        }
      ]
    },
    {
      "cell_type": "code",
      "metadata": {
        "id": "_v_e--P-_uAG"
      },
      "source": [
        "# Now since we have created a 'Combined_Product_Type', I think we can now drop the 'Product_Type' column, yeah? Yasss!\n",
        "supermarket_data.drop('Product_Type', axis=1, inplace=True)"
      ],
      "execution_count": null,
      "outputs": []
    },
    {
      "cell_type": "code",
      "metadata": {
        "id": "1luKw4e8_uAG"
      },
      "source": [
        "# So it's good you've come this far. A big congrats to you. \n",
        "# But hold your horses... We still have a few feature engineering (fancy word for pre-processing) to do.\n"
      ],
      "execution_count": null,
      "outputs": []
    },
    {
      "cell_type": "code",
      "metadata": {
        "id": "TFwTUodb_uAH"
      },
      "source": [
        "# Let's take a look at our data columns again, and look at the columns we have not treated.\n",
        "\n",
        "supermarket_data.head()"
      ],
      "execution_count": null,
      "outputs": []
    },
    {
      "cell_type": "markdown",
      "metadata": {
        "id": "b4pMO1opCI9N"
      },
      "source": [
        "Supermarket_Opening_Year, Supermarket_Location_Type, Product_Fat_Content are still columns pending our treatment.\r\n",
        "We will not touch Product_Supermarket_Sales of course, because it is our label column (the column we are trying to predict)\r\n",
        "\r\n",
        "The next thing we need to do is to treat our Product_Fat_Content column.\r\n",
        "Before then, let's check if it is a continous or categorical column. \r\n"
      ]
    },
    {
      "cell_type": "code",
      "metadata": {
        "id": "OUEy-x3r_uAH"
      },
      "source": [
        "\n",
        "# It is a categorical column, if you will agree with me.\n",
        "# Now let's check how many categories there are in the column.\n",
        "\n",
        "supermarket_data['Product_Fat_Content'].value_counts()\n",
        "\n",
        "\n",
        "# From the output, we will see that there are 3 categories.."
      ],
      "execution_count": null,
      "outputs": []
    },
    {
      "cell_type": "markdown",
      "metadata": {
        "id": "fu73VW1lCMk6"
      },
      "source": [
        "Now, since not all of our products can be eaten (as evident in our product ids), the 'Non-consumable' products, and you...\r\n",
        "... without too much of technical explanation, we should know that products that cannot be eaten do not contain fat, eh?\r\n",
        "So if you agree with me, then let's make this exemption\r\n",
        "\r\n",
        "loc works like thsi\r\n",
        "data.loc[row, column], so we can manipulate rows and columns by applying, assinging conditions, or slicing, or whatever we want to do, to them.\r\n",
        "\r\n",
        "The below line code looks through the rows of 'Combined_Product_Type' for 'Non-Consumable', if found, assign 'Cannot be Eaten' to 'Product_Fat_Content' column...\r\n",
        "... as simple as that."
      ]
    },
    {
      "cell_type": "code",
      "metadata": {
        "collapsed": true,
        "id": "hwrCWfLC_uAH",
        "outputId": "0af304f9-d618-47c2-ae8e-18c7a6c8fd74"
      },
      "source": [
        "\n",
        "\n",
        "supermarket_data.loc[supermarket_data.Combined_Product_Type ==\"Non-Consumable\",'Product_Fat_Content'] = \"Cannot be Eaten\"\n",
        "\n",
        "# Check the value count of your 'Product_Fat_Content' to see your new category addition.\n",
        "supermarket_data['Product_Fat_Content'].value_counts()"
      ],
      "execution_count": null,
      "outputs": [
        {
          "output_type": "execute_result",
          "data": {
            "text/plain": [
              "Low Fat            3696\n",
              "Normal Fat         3006\n",
              "Cannot be Eaten    1598\n",
              "Ultra Low fat       222\n",
              "Name: Product_Fat_Content, dtype: int64"
            ]
          },
          "metadata": {
            "tags": []
          },
          "execution_count": 21
        }
      ]
    },
    {
      "cell_type": "markdown",
      "metadata": {
        "id": "J4NpHAjHCPTb"
      },
      "source": [
        "Thank goodness you have gotten this far. Keep going, the party's just getting started!"
      ]
    },
    {
      "cell_type": "markdown",
      "metadata": {
        "id": "Kva6ylbDCR10"
      },
      "source": [
        "So we have cleaned up and processed 'Product_Fat_Content' column, now let's jump right into the remaining two cols\r\n",
        "'Supermarket_Opening_Year' and 'Supermarket_Location_Type'\r\n",
        "\r\n",
        "First off, 'Supermarket_Opening_Year'!\r\n",
        "Why? From our data description, Mr. Chukuwdi would also know the key characteristics of the supermarkets that are driving sales,\r\n",
        "... including the location, age  of the supermarket. And guess what, we were giving the 'Supermarket_Opening_Year', we can determine...\r\n",
        "... the age of the supermarket, yes? The math, you ask? Well if we subtract the highest year from each of the other years, we can...\r\n",
        "... determine the number of year(s) the supermarket has been open, thus its age.\r\n"
      ]
    },
    {
      "cell_type": "code",
      "metadata": {
        "id": "pueQmyuX_uAI"
      },
      "source": [
        "\n",
        "# But before then, let's take a look at our column to determine the maximum year, shall we\n",
        "supermarket_data.Supermarket_Opening_Year.describe()\n"
      ],
      "execution_count": null,
      "outputs": []
    },
    {
      "cell_type": "code",
      "metadata": {
        "id": "PMjepaF9_uAJ"
      },
      "source": [
        "# We can see from the output of the above cell that the maximum opening year is 2016, so we can work with that.\n",
        "\n",
        "\n",
        "supermarket_data['Supermarket_Age'] = 2016 - supermarket_data.Supermarket_Opening_Year\n",
        "\n",
        "\n",
        "# or supermarket_data.Supermarket_Opening_Year = supermarket_data.Supermarket_Opening_Year.max() - supermarket_data.Supermarket_Opening_Year\n",
        "\n",
        "# Warning! If you run this cell more than once, you might be geting negative values becuase you have subtracted twice."
      ],
      "execution_count": null,
      "outputs": []
    },
    {
      "cell_type": "code",
      "metadata": {
        "id": "OpP9I98c_uAJ",
        "outputId": "4ebc8ad2-1663-486e-8684-f0bd4d69e3f0"
      },
      "source": [
        "# Now we have subtracted the highest year from every other year, let's see our processed column now\n",
        "supermarket_data.Supermarket_Age.head()\n",
        "\n",
        "# Now we can see that we now have our 'Supermarket_Opening_Year' expressed in age."
      ],
      "execution_count": null,
      "outputs": [
        {
          "output_type": "execute_result",
          "data": {
            "text/plain": [
              "0    11\n",
              "1    22\n",
              "2     2\n",
              "3     0\n",
              "4     5\n",
              "Name: Supermarket_Age, dtype: int64"
            ]
          },
          "metadata": {
            "tags": []
          },
          "execution_count": 23
        }
      ]
    },
    {
      "cell_type": "code",
      "metadata": {
        "id": "D0Ag1I--_uAK"
      },
      "source": [
        "# Now we have created a column for our 'Supermarket_Age', we can now drop the 'Supermarket_Opening_Year' column\n",
        "\n",
        "supermarket_data.drop('Supermarket_Opening_Year', axis=1, inplace=True)"
      ],
      "execution_count": null,
      "outputs": []
    },
    {
      "cell_type": "markdown",
      "metadata": {
        "id": "EkrUm7ORCVGW"
      },
      "source": [
        "Nice, you! Nice! Just hold the fort a little more."
      ]
    },
    {
      "cell_type": "code",
      "metadata": {
        "id": "OhGPnXJ-_uAL"
      },
      "source": [
        "# Alright, so we are almost done. Let's check out the last column on the list to be processed; 'Supermarket_Location_Type'.\n",
        "supermarket_data.Supermarket_Location_Type.value_counts()"
      ],
      "execution_count": null,
      "outputs": []
    },
    {
      "cell_type": "markdown",
      "metadata": {
        "id": "VZ_an_VZCYqS"
      },
      "source": [
        "We can of course confirm that it is a categorical column with 3 categories\r\n",
        "I think that column is good enough, for now, no missing values or anything. Properly classes and categorized. Yay!"
      ]
    },
    {
      "cell_type": "markdown",
      "metadata": {
        "id": "NdgIlXFACa8K"
      },
      "source": [
        "So the next thing on our processing list is to one-hot encode our categorical columns to numeric types. \r\n",
        "This is good practice, because most frameowrks, or libraries you will be using in the Machine Learning space will only accept\r\n",
        "... variables with numeric data types, yes, you guessed right, sci-kit learn too."
      ]
    },
    {
      "cell_type": "code",
      "metadata": {
        "id": "e7ZLxGjg_uAM"
      },
      "source": [
        "supermarket_data.head()"
      ],
      "execution_count": null,
      "outputs": []
    },
    {
      "cell_type": "code",
      "metadata": {
        "id": "7WgmkmHG_uAN"
      },
      "source": [
        "# The below line of code imports the attribute LabelEncoder from the library scikit-learn (or sklearn) under the 'preprocessing' section.\n",
        "from sklearn.preprocessing import LabelEncoder\n",
        "\n",
        "# The below line of code will store our LabelEncoder() as one_hot_enc, so we can efficiently call on our LabelEncoder() any time.\n",
        "one_hot_enc = LabelEncoder()\n"
      ],
      "execution_count": null,
      "outputs": []
    },
    {
      "cell_type": "markdown",
      "metadata": {
        "id": "FQS2QYvlCjWm"
      },
      "source": [
        "The below line of code creates copies the data from 'Product_Supermarket_Identifier', and uses the LabelEncoder() to fit and transform the copied\r\n",
        "... data to 'Product_Supermarket_ID', our new column.\r\n",
        "The `.fit_transform()` function basically 'fits' the encoded labels in the created 'Product_Supermarket_ID', and transform ensures that...\r\n",
        "... the encoded labels are represented in the newly created column."
      ]
    },
    {
      "cell_type": "code",
      "metadata": {
        "id": "KtfmduweCfAl"
      },
      "source": [
        "supermarket_data['Product_Supermarket_ID'] = one_hot_enc.fit_transform(supermarket_data['Product_Supermarket_Identifier'])"
      ],
      "execution_count": null,
      "outputs": []
    },
    {
      "cell_type": "markdown",
      "metadata": {
        "id": "StoE-vkMCmjf"
      },
      "source": [
        "Next, we will create a list containing all the varaibles (for modification) we would love to encode, so the model we will be creating later on...\r\n",
        "... will be able to read them for predictions without any fuss (yep, because it's mundane stuff) on its part.\r\n"
      ]
    },
    {
      "cell_type": "code",
      "metadata": {
        "id": "oc8V4k0m_uAN"
      },
      "source": [
        "\n",
        "variables_for_mod = ['Product_Fat_Content','Supermarket_Location_Type','Supermarket _Size','Combined_Product_Type','Supermarket_Type','Product_Supermarket_ID']\n"
      ],
      "execution_count": null,
      "outputs": []
    },
    {
      "cell_type": "markdown",
      "metadata": {
        "id": "9FAxtU1hCp-0"
      },
      "source": [
        "Next we will run a 'for loop' to one_hot_encode (fit) all of our modified varaibales and make the encoded lables are represented (transform)...\r\n",
        "...using `.fit_transform()`function."
      ]
    },
    {
      "cell_type": "code",
      "metadata": {
        "id": "bUTgGhj4_uAN"
      },
      "source": [
        "for all_cat_cols in variables_for_mod:\n",
        "    supermarket_data[all_cat_cols] = one_hot_enc.fit_transform(supermarket_data[all_cat_cols])"
      ],
      "execution_count": null,
      "outputs": []
    },
    {
      "cell_type": "markdown",
      "metadata": {
        "id": "rEPrEYesCwjN"
      },
      "source": [
        "The next thing we will do is to create dummy variables (also known as indicator variables) that will be added to our original data frame.\r\n",
        "Although what we are about to achieve can also be done with the Pandas `.map()` function, it is rather more efficient to do so with the...\r\n",
        "... `get_dummies()` function, as it is more flexible to use."
      ]
    },
    {
      "cell_type": "code",
      "metadata": {
        "id": "jWClCJdD_uAO"
      },
      "source": [
        "supermarket_data = pd.get_dummies(supermarket_data, columns=variables_for_mod)"
      ],
      "execution_count": null,
      "outputs": []
    },
    {
      "cell_type": "markdown",
      "metadata": {
        "id": "_C-8L87gCzbl"
      },
      "source": [
        "Now let's check our data\r\n",
        "You won't be able to see all the long ass dummy variables created, but just have it at the back of your mind, that you and...\r\n",
        "... your psychic-ness created a great ass dummy variable and it's in your data somewhere. \r\n",
        "\r\n",
        "Ehm.. don't fret, we all assume, all the time, we are never really sure of anything, here, on earth, even our existence :) ...\r\n",
        "... Please ignore all the Philosophy shit, fam."
      ]
    },
    {
      "cell_type": "code",
      "metadata": {
        "collapsed": true,
        "id": "8NlkQiZe_uAO",
        "outputId": "c3ac56bd-e553-4c98-b5f5-d20c0ba59bf7"
      },
      "source": [
        "\n",
        "supermarket_data.head()"
      ],
      "execution_count": null,
      "outputs": [
        {
          "output_type": "execute_result",
          "data": {
            "text/html": [
              "<div>\n",
              "<style scoped>\n",
              "    .dataframe tbody tr th:only-of-type {\n",
              "        vertical-align: middle;\n",
              "    }\n",
              "\n",
              "    .dataframe tbody tr th {\n",
              "        vertical-align: top;\n",
              "    }\n",
              "\n",
              "    .dataframe thead th {\n",
              "        text-align: right;\n",
              "    }\n",
              "</style>\n",
              "<table border=\"1\" class=\"dataframe\">\n",
              "  <thead>\n",
              "    <tr style=\"text-align: right;\">\n",
              "      <th></th>\n",
              "      <th>Product_Identifier</th>\n",
              "      <th>Supermarket_Identifier</th>\n",
              "      <th>Product_Supermarket_Identifier</th>\n",
              "      <th>Product_Weight</th>\n",
              "      <th>Product_Shelf_Visibility</th>\n",
              "      <th>Product_Price</th>\n",
              "      <th>Product_Supermarket_Sales</th>\n",
              "      <th>original_entry</th>\n",
              "      <th>Supermarket_Age</th>\n",
              "      <th>Product_Fat_Content_0</th>\n",
              "      <th>...</th>\n",
              "      <th>Product_Supermarket_ID_8512</th>\n",
              "      <th>Product_Supermarket_ID_8513</th>\n",
              "      <th>Product_Supermarket_ID_8514</th>\n",
              "      <th>Product_Supermarket_ID_8515</th>\n",
              "      <th>Product_Supermarket_ID_8516</th>\n",
              "      <th>Product_Supermarket_ID_8517</th>\n",
              "      <th>Product_Supermarket_ID_8518</th>\n",
              "      <th>Product_Supermarket_ID_8519</th>\n",
              "      <th>Product_Supermarket_ID_8520</th>\n",
              "      <th>Product_Supermarket_ID_8521</th>\n",
              "    </tr>\n",
              "  </thead>\n",
              "  <tbody>\n",
              "    <tr>\n",
              "      <th>0</th>\n",
              "      <td>DRA12</td>\n",
              "      <td>CHUKWUDI010</td>\n",
              "      <td>DRA12_CHUKWUDI010</td>\n",
              "      <td>11.6</td>\n",
              "      <td>0.068535</td>\n",
              "      <td>357.54</td>\n",
              "      <td>709.08</td>\n",
              "      <td>training_data</td>\n",
              "      <td>11</td>\n",
              "      <td>0</td>\n",
              "      <td>...</td>\n",
              "      <td>0</td>\n",
              "      <td>0</td>\n",
              "      <td>0</td>\n",
              "      <td>0</td>\n",
              "      <td>0</td>\n",
              "      <td>0</td>\n",
              "      <td>0</td>\n",
              "      <td>0</td>\n",
              "      <td>0</td>\n",
              "      <td>0</td>\n",
              "    </tr>\n",
              "    <tr>\n",
              "      <th>1</th>\n",
              "      <td>DRA12</td>\n",
              "      <td>CHUKWUDI013</td>\n",
              "      <td>DRA12_CHUKWUDI013</td>\n",
              "      <td>11.6</td>\n",
              "      <td>0.040912</td>\n",
              "      <td>355.79</td>\n",
              "      <td>6381.69</td>\n",
              "      <td>training_data</td>\n",
              "      <td>22</td>\n",
              "      <td>0</td>\n",
              "      <td>...</td>\n",
              "      <td>0</td>\n",
              "      <td>0</td>\n",
              "      <td>0</td>\n",
              "      <td>0</td>\n",
              "      <td>0</td>\n",
              "      <td>0</td>\n",
              "      <td>0</td>\n",
              "      <td>0</td>\n",
              "      <td>0</td>\n",
              "      <td>0</td>\n",
              "    </tr>\n",
              "    <tr>\n",
              "      <th>2</th>\n",
              "      <td>DRA12</td>\n",
              "      <td>CHUKWUDI017</td>\n",
              "      <td>DRA12_CHUKWUDI017</td>\n",
              "      <td>11.6</td>\n",
              "      <td>0.041178</td>\n",
              "      <td>350.79</td>\n",
              "      <td>6381.69</td>\n",
              "      <td>training_data</td>\n",
              "      <td>2</td>\n",
              "      <td>0</td>\n",
              "      <td>...</td>\n",
              "      <td>0</td>\n",
              "      <td>0</td>\n",
              "      <td>0</td>\n",
              "      <td>0</td>\n",
              "      <td>0</td>\n",
              "      <td>0</td>\n",
              "      <td>0</td>\n",
              "      <td>0</td>\n",
              "      <td>0</td>\n",
              "      <td>0</td>\n",
              "    </tr>\n",
              "    <tr>\n",
              "      <th>3</th>\n",
              "      <td>DRA12</td>\n",
              "      <td>CHUKWUDI018</td>\n",
              "      <td>DRA12_CHUKWUDI018</td>\n",
              "      <td>11.6</td>\n",
              "      <td>0.041113</td>\n",
              "      <td>355.04</td>\n",
              "      <td>2127.23</td>\n",
              "      <td>training_data</td>\n",
              "      <td>0</td>\n",
              "      <td>0</td>\n",
              "      <td>...</td>\n",
              "      <td>0</td>\n",
              "      <td>0</td>\n",
              "      <td>0</td>\n",
              "      <td>0</td>\n",
              "      <td>0</td>\n",
              "      <td>0</td>\n",
              "      <td>0</td>\n",
              "      <td>0</td>\n",
              "      <td>0</td>\n",
              "      <td>0</td>\n",
              "    </tr>\n",
              "    <tr>\n",
              "      <th>4</th>\n",
              "      <td>DRA12</td>\n",
              "      <td>CHUKWUDI035</td>\n",
              "      <td>DRA12_CHUKWUDI035</td>\n",
              "      <td>11.6</td>\n",
              "      <td>0.031956</td>\n",
              "      <td>354.79</td>\n",
              "      <td>2481.77</td>\n",
              "      <td>training_data</td>\n",
              "      <td>5</td>\n",
              "      <td>0</td>\n",
              "      <td>...</td>\n",
              "      <td>0</td>\n",
              "      <td>0</td>\n",
              "      <td>0</td>\n",
              "      <td>0</td>\n",
              "      <td>0</td>\n",
              "      <td>0</td>\n",
              "      <td>0</td>\n",
              "      <td>0</td>\n",
              "      <td>0</td>\n",
              "      <td>0</td>\n",
              "    </tr>\n",
              "  </tbody>\n",
              "</table>\n",
              "<p>5 rows × 8548 columns</p>\n",
              "</div>"
            ],
            "text/plain": [
              "  Product_Identifier Supermarket_Identifier Product_Supermarket_Identifier  \\\n",
              "0              DRA12            CHUKWUDI010              DRA12_CHUKWUDI010   \n",
              "1              DRA12            CHUKWUDI013              DRA12_CHUKWUDI013   \n",
              "2              DRA12            CHUKWUDI017              DRA12_CHUKWUDI017   \n",
              "3              DRA12            CHUKWUDI018              DRA12_CHUKWUDI018   \n",
              "4              DRA12            CHUKWUDI035              DRA12_CHUKWUDI035   \n",
              "\n",
              "   Product_Weight  Product_Shelf_Visibility  Product_Price  \\\n",
              "0            11.6                  0.068535         357.54   \n",
              "1            11.6                  0.040912         355.79   \n",
              "2            11.6                  0.041178         350.79   \n",
              "3            11.6                  0.041113         355.04   \n",
              "4            11.6                  0.031956         354.79   \n",
              "\n",
              "   Product_Supermarket_Sales original_entry  Supermarket_Age  \\\n",
              "0                     709.08  training_data               11   \n",
              "1                    6381.69  training_data               22   \n",
              "2                    6381.69  training_data                2   \n",
              "3                    2127.23  training_data                0   \n",
              "4                    2481.77  training_data                5   \n",
              "\n",
              "   Product_Fat_Content_0             ...               \\\n",
              "0                      0             ...                \n",
              "1                      0             ...                \n",
              "2                      0             ...                \n",
              "3                      0             ...                \n",
              "4                      0             ...                \n",
              "\n",
              "   Product_Supermarket_ID_8512  Product_Supermarket_ID_8513  \\\n",
              "0                            0                            0   \n",
              "1                            0                            0   \n",
              "2                            0                            0   \n",
              "3                            0                            0   \n",
              "4                            0                            0   \n",
              "\n",
              "   Product_Supermarket_ID_8514  Product_Supermarket_ID_8515  \\\n",
              "0                            0                            0   \n",
              "1                            0                            0   \n",
              "2                            0                            0   \n",
              "3                            0                            0   \n",
              "4                            0                            0   \n",
              "\n",
              "   Product_Supermarket_ID_8516  Product_Supermarket_ID_8517  \\\n",
              "0                            0                            0   \n",
              "1                            0                            0   \n",
              "2                            0                            0   \n",
              "3                            0                            0   \n",
              "4                            0                            0   \n",
              "\n",
              "   Product_Supermarket_ID_8518  Product_Supermarket_ID_8519  \\\n",
              "0                            0                            0   \n",
              "1                            0                            0   \n",
              "2                            0                            0   \n",
              "3                            0                            0   \n",
              "4                            0                            0   \n",
              "\n",
              "   Product_Supermarket_ID_8520  Product_Supermarket_ID_8521  \n",
              "0                            0                            0  \n",
              "1                            0                            0  \n",
              "2                            0                            0  \n",
              "3                            0                            0  \n",
              "4                            0                            0  \n",
              "\n",
              "[5 rows x 8548 columns]"
            ]
          },
          "metadata": {
            "tags": []
          },
          "execution_count": 29
        }
      ]
    },
    {
      "cell_type": "markdown",
      "metadata": {
        "id": "0k0-xDmNC193"
      },
      "source": [
        "Oh yes! Well done you pro Data Scientist. We have successfully cleaned and processed our data.\r\n",
        "\r\n",
        "Now it's time to separate the data into its training and test set, again, but this time, the with a fine processed tint to our data\r\n"
      ]
    },
    {
      "cell_type": "markdown",
      "metadata": {
        "id": "5P-PnqxIC8Ay"
      },
      "source": [
        "Now we are separating the original_entry column with 'training_data' and assigning it to the now created 'train_set' var\r\n",
        "... and the 'test_data' to the now created 'test_set'."
      ]
    },
    {
      "cell_type": "code",
      "metadata": {
        "id": "7UlyDg8W_uAQ"
      },
      "source": [
        "train_set = supermarket_data.loc[supermarket_data['original_entry']=='training_data']\n",
        "test_set = supermarket_data.loc[supermarket_data['original_entry']=='test_data']"
      ],
      "execution_count": null,
      "outputs": []
    },
    {
      "cell_type": "markdown",
      "metadata": {
        "id": "Fz2V7-wUDAcP"
      },
      "source": [
        "Amazing! Now we just have to get rid of the 'original_entry', as it will cause feature and reading problems for our model.\r\n",
        "\r\n",
        "'inplace' set to 'True' allows the changes to take placa across all the cells in our project."
      ]
    },
    {
      "cell_type": "code",
      "metadata": {
        "collapsed": true,
        "id": "OJDKqxUg_uAQ",
        "outputId": "3b685468-1d76-4518-f660-fb6014b71ca5"
      },
      "source": [
        "train_set.drop(['original_entry'],axis=1,inplace=True)"
      ],
      "execution_count": null,
      "outputs": [
        {
          "output_type": "stream",
          "text": [
            "C:\\Users\\PC\\Anaconda3\\envs\\tfp3.6\\lib\\site-packages\\pandas\\core\\frame.py:3694: SettingWithCopyWarning: \n",
            "A value is trying to be set on a copy of a slice from a DataFrame\n",
            "\n",
            "See the caveats in the documentation: http://pandas.pydata.org/pandas-docs/stable/indexing.html#indexing-view-versus-copy\n",
            "  errors=errors)\n"
          ],
          "name": "stderr"
        }
      ]
    },
    {
      "cell_type": "markdown",
      "metadata": {
        "id": "eZ9l6kRqDDw3"
      },
      "source": [
        "Since the label we are trying to predict is 'Product_Supermarket_Sales', it will be wise enough, and sensible for us to...\r\n",
        "... drop it from our test set, if we don't then our model is as good as well..., ehm,...not a 'predictive' model for sure...\r\n",
        "... because if it knows all the answers (labels) in a test, then there is no need to even 'test' for predictions at all.\r\n",
        "\r\n",
        "\r\n",
        "So it is good practice, essentially good practice to drop our label, and we will also drop the 'original_entry' column to, for the above...\r\n",
        "... reasons also"
      ]
    },
    {
      "cell_type": "code",
      "metadata": {
        "collapsed": true,
        "id": "b6jXQRsx_uAQ",
        "outputId": "90ae609e-9ccd-438b-8d8e-dd2f0091e011"
      },
      "source": [
        "test_set.drop(['Product_Supermarket_Sales','original_entry'], axis=1,inplace=True)"
      ],
      "execution_count": null,
      "outputs": [
        {
          "output_type": "stream",
          "text": [
            "C:\\Users\\PC\\Anaconda3\\envs\\tfp3.6\\lib\\site-packages\\pandas\\core\\frame.py:3694: SettingWithCopyWarning: \n",
            "A value is trying to be set on a copy of a slice from a DataFrame\n",
            "\n",
            "See the caveats in the documentation: http://pandas.pydata.org/pandas-docs/stable/indexing.html#indexing-view-versus-copy\n",
            "  errors=errors)\n"
          ],
          "name": "stderr"
        }
      ]
    },
    {
      "cell_type": "markdown",
      "metadata": {
        "id": "7j93UGlUDGE1"
      },
      "source": [
        "Okay, nice, now we have a proper training and test set. Allw e just need to do is to export them as a '.csv' file for later use.\r\n",
        "We will do this using the `.to_csv()` function in Pandas."
      ]
    },
    {
      "cell_type": "code",
      "metadata": {
        "id": "jaBYX9-V_uAR"
      },
      "source": [
        "# We set the 'index' to False because we do not want to export the preceeding indices for each row of our data. The one Pandas..\n",
        "# ... created.\n",
        "\n",
        "\n",
        "test_set.to_csv(\"ModifiedTestData.csv\",index=False)\n",
        "train_set.to_csv(\"ModifiedTrainingData.csv\",index=False)\n"
      ],
      "execution_count": null,
      "outputs": []
    },
    {
      "cell_type": "markdown",
      "metadata": {
        "id": "3wkmWIPoDI2n"
      },
      "source": [
        "Splendid job! Now you can check your modified table on your local machine, in the same folder as your project.\r\n",
        "\r\n",
        "Now let's move on to creating our model, shall we!"
      ]
    },
    {
      "cell_type": "code",
      "metadata": {
        "collapsed": true,
        "id": "0_n9vHc6_uAS",
        "outputId": "f706674f-cf57-4b90-af90-78c886844f72"
      },
      "source": [
        "# Let's check out our training set again, just to be sure we are on the right path.\n",
        "train_set.head()"
      ],
      "execution_count": null,
      "outputs": [
        {
          "output_type": "execute_result",
          "data": {
            "text/html": [
              "<div>\n",
              "<style scoped>\n",
              "    .dataframe tbody tr th:only-of-type {\n",
              "        vertical-align: middle;\n",
              "    }\n",
              "\n",
              "    .dataframe tbody tr th {\n",
              "        vertical-align: top;\n",
              "    }\n",
              "\n",
              "    .dataframe thead th {\n",
              "        text-align: right;\n",
              "    }\n",
              "</style>\n",
              "<table border=\"1\" class=\"dataframe\">\n",
              "  <thead>\n",
              "    <tr style=\"text-align: right;\">\n",
              "      <th></th>\n",
              "      <th>Product_Identifier</th>\n",
              "      <th>Supermarket_Identifier</th>\n",
              "      <th>Product_Supermarket_Identifier</th>\n",
              "      <th>Product_Weight</th>\n",
              "      <th>Product_Shelf_Visibility</th>\n",
              "      <th>Product_Price</th>\n",
              "      <th>Product_Supermarket_Sales</th>\n",
              "      <th>Supermarket_Age</th>\n",
              "      <th>Product_Fat_Content_0</th>\n",
              "      <th>Product_Fat_Content_1</th>\n",
              "      <th>...</th>\n",
              "      <th>Product_Supermarket_ID_8512</th>\n",
              "      <th>Product_Supermarket_ID_8513</th>\n",
              "      <th>Product_Supermarket_ID_8514</th>\n",
              "      <th>Product_Supermarket_ID_8515</th>\n",
              "      <th>Product_Supermarket_ID_8516</th>\n",
              "      <th>Product_Supermarket_ID_8517</th>\n",
              "      <th>Product_Supermarket_ID_8518</th>\n",
              "      <th>Product_Supermarket_ID_8519</th>\n",
              "      <th>Product_Supermarket_ID_8520</th>\n",
              "      <th>Product_Supermarket_ID_8521</th>\n",
              "    </tr>\n",
              "  </thead>\n",
              "  <tbody>\n",
              "    <tr>\n",
              "      <th>0</th>\n",
              "      <td>DRA12</td>\n",
              "      <td>CHUKWUDI010</td>\n",
              "      <td>DRA12_CHUKWUDI010</td>\n",
              "      <td>11.6</td>\n",
              "      <td>0.068535</td>\n",
              "      <td>357.54</td>\n",
              "      <td>709.08</td>\n",
              "      <td>11</td>\n",
              "      <td>0</td>\n",
              "      <td>1</td>\n",
              "      <td>...</td>\n",
              "      <td>0</td>\n",
              "      <td>0</td>\n",
              "      <td>0</td>\n",
              "      <td>0</td>\n",
              "      <td>0</td>\n",
              "      <td>0</td>\n",
              "      <td>0</td>\n",
              "      <td>0</td>\n",
              "      <td>0</td>\n",
              "      <td>0</td>\n",
              "    </tr>\n",
              "    <tr>\n",
              "      <th>1</th>\n",
              "      <td>DRA12</td>\n",
              "      <td>CHUKWUDI013</td>\n",
              "      <td>DRA12_CHUKWUDI013</td>\n",
              "      <td>11.6</td>\n",
              "      <td>0.040912</td>\n",
              "      <td>355.79</td>\n",
              "      <td>6381.69</td>\n",
              "      <td>22</td>\n",
              "      <td>0</td>\n",
              "      <td>1</td>\n",
              "      <td>...</td>\n",
              "      <td>0</td>\n",
              "      <td>0</td>\n",
              "      <td>0</td>\n",
              "      <td>0</td>\n",
              "      <td>0</td>\n",
              "      <td>0</td>\n",
              "      <td>0</td>\n",
              "      <td>0</td>\n",
              "      <td>0</td>\n",
              "      <td>0</td>\n",
              "    </tr>\n",
              "    <tr>\n",
              "      <th>2</th>\n",
              "      <td>DRA12</td>\n",
              "      <td>CHUKWUDI017</td>\n",
              "      <td>DRA12_CHUKWUDI017</td>\n",
              "      <td>11.6</td>\n",
              "      <td>0.041178</td>\n",
              "      <td>350.79</td>\n",
              "      <td>6381.69</td>\n",
              "      <td>2</td>\n",
              "      <td>0</td>\n",
              "      <td>1</td>\n",
              "      <td>...</td>\n",
              "      <td>0</td>\n",
              "      <td>0</td>\n",
              "      <td>0</td>\n",
              "      <td>0</td>\n",
              "      <td>0</td>\n",
              "      <td>0</td>\n",
              "      <td>0</td>\n",
              "      <td>0</td>\n",
              "      <td>0</td>\n",
              "      <td>0</td>\n",
              "    </tr>\n",
              "    <tr>\n",
              "      <th>3</th>\n",
              "      <td>DRA12</td>\n",
              "      <td>CHUKWUDI018</td>\n",
              "      <td>DRA12_CHUKWUDI018</td>\n",
              "      <td>11.6</td>\n",
              "      <td>0.041113</td>\n",
              "      <td>355.04</td>\n",
              "      <td>2127.23</td>\n",
              "      <td>0</td>\n",
              "      <td>0</td>\n",
              "      <td>1</td>\n",
              "      <td>...</td>\n",
              "      <td>0</td>\n",
              "      <td>0</td>\n",
              "      <td>0</td>\n",
              "      <td>0</td>\n",
              "      <td>0</td>\n",
              "      <td>0</td>\n",
              "      <td>0</td>\n",
              "      <td>0</td>\n",
              "      <td>0</td>\n",
              "      <td>0</td>\n",
              "    </tr>\n",
              "    <tr>\n",
              "      <th>4</th>\n",
              "      <td>DRA12</td>\n",
              "      <td>CHUKWUDI035</td>\n",
              "      <td>DRA12_CHUKWUDI035</td>\n",
              "      <td>11.6</td>\n",
              "      <td>0.031956</td>\n",
              "      <td>354.79</td>\n",
              "      <td>2481.77</td>\n",
              "      <td>5</td>\n",
              "      <td>0</td>\n",
              "      <td>0</td>\n",
              "      <td>...</td>\n",
              "      <td>0</td>\n",
              "      <td>0</td>\n",
              "      <td>0</td>\n",
              "      <td>0</td>\n",
              "      <td>0</td>\n",
              "      <td>0</td>\n",
              "      <td>0</td>\n",
              "      <td>0</td>\n",
              "      <td>0</td>\n",
              "      <td>0</td>\n",
              "    </tr>\n",
              "  </tbody>\n",
              "</table>\n",
              "<p>5 rows × 8547 columns</p>\n",
              "</div>"
            ],
            "text/plain": [
              "  Product_Identifier Supermarket_Identifier Product_Supermarket_Identifier  \\\n",
              "0              DRA12            CHUKWUDI010              DRA12_CHUKWUDI010   \n",
              "1              DRA12            CHUKWUDI013              DRA12_CHUKWUDI013   \n",
              "2              DRA12            CHUKWUDI017              DRA12_CHUKWUDI017   \n",
              "3              DRA12            CHUKWUDI018              DRA12_CHUKWUDI018   \n",
              "4              DRA12            CHUKWUDI035              DRA12_CHUKWUDI035   \n",
              "\n",
              "   Product_Weight  Product_Shelf_Visibility  Product_Price  \\\n",
              "0            11.6                  0.068535         357.54   \n",
              "1            11.6                  0.040912         355.79   \n",
              "2            11.6                  0.041178         350.79   \n",
              "3            11.6                  0.041113         355.04   \n",
              "4            11.6                  0.031956         354.79   \n",
              "\n",
              "   Product_Supermarket_Sales  Supermarket_Age  Product_Fat_Content_0  \\\n",
              "0                     709.08               11                      0   \n",
              "1                    6381.69               22                      0   \n",
              "2                    6381.69                2                      0   \n",
              "3                    2127.23                0                      0   \n",
              "4                    2481.77                5                      0   \n",
              "\n",
              "   Product_Fat_Content_1             ...               \\\n",
              "0                      1             ...                \n",
              "1                      1             ...                \n",
              "2                      1             ...                \n",
              "3                      1             ...                \n",
              "4                      0             ...                \n",
              "\n",
              "   Product_Supermarket_ID_8512  Product_Supermarket_ID_8513  \\\n",
              "0                            0                            0   \n",
              "1                            0                            0   \n",
              "2                            0                            0   \n",
              "3                            0                            0   \n",
              "4                            0                            0   \n",
              "\n",
              "   Product_Supermarket_ID_8514  Product_Supermarket_ID_8515  \\\n",
              "0                            0                            0   \n",
              "1                            0                            0   \n",
              "2                            0                            0   \n",
              "3                            0                            0   \n",
              "4                            0                            0   \n",
              "\n",
              "   Product_Supermarket_ID_8516  Product_Supermarket_ID_8517  \\\n",
              "0                            0                            0   \n",
              "1                            0                            0   \n",
              "2                            0                            0   \n",
              "3                            0                            0   \n",
              "4                            0                            0   \n",
              "\n",
              "   Product_Supermarket_ID_8518  Product_Supermarket_ID_8519  \\\n",
              "0                            0                            0   \n",
              "1                            0                            0   \n",
              "2                            0                            0   \n",
              "3                            0                            0   \n",
              "4                            0                            0   \n",
              "\n",
              "   Product_Supermarket_ID_8520  Product_Supermarket_ID_8521  \n",
              "0                            0                            0  \n",
              "1                            0                            0  \n",
              "2                            0                            0  \n",
              "3                            0                            0  \n",
              "4                            0                            0  \n",
              "\n",
              "[5 rows x 8547 columns]"
            ]
          },
          "metadata": {
            "tags": []
          },
          "execution_count": 36
        }
      ]
    },
    {
      "cell_type": "code",
      "metadata": {
        "collapsed": true,
        "id": "RZYF9TiB_uAS",
        "outputId": "5f8f712a-1c9b-4271-cabf-c7fa265d4960"
      },
      "source": [
        "# And our test set... Don't worry , we can check our test set, our model won't know, so it won't definetly cheat.\n",
        "test_set.head()"
      ],
      "execution_count": null,
      "outputs": [
        {
          "output_type": "execute_result",
          "data": {
            "text/html": [
              "<div>\n",
              "<style scoped>\n",
              "    .dataframe tbody tr th:only-of-type {\n",
              "        vertical-align: middle;\n",
              "    }\n",
              "\n",
              "    .dataframe tbody tr th {\n",
              "        vertical-align: top;\n",
              "    }\n",
              "\n",
              "    .dataframe thead th {\n",
              "        text-align: right;\n",
              "    }\n",
              "</style>\n",
              "<table border=\"1\" class=\"dataframe\">\n",
              "  <thead>\n",
              "    <tr style=\"text-align: right;\">\n",
              "      <th></th>\n",
              "      <th>Product_Identifier</th>\n",
              "      <th>Supermarket_Identifier</th>\n",
              "      <th>Product_Supermarket_Identifier</th>\n",
              "      <th>Product_Weight</th>\n",
              "      <th>Product_Shelf_Visibility</th>\n",
              "      <th>Product_Price</th>\n",
              "      <th>Supermarket_Age</th>\n",
              "      <th>Product_Fat_Content_0</th>\n",
              "      <th>Product_Fat_Content_1</th>\n",
              "      <th>Product_Fat_Content_2</th>\n",
              "      <th>...</th>\n",
              "      <th>Product_Supermarket_ID_8512</th>\n",
              "      <th>Product_Supermarket_ID_8513</th>\n",
              "      <th>Product_Supermarket_ID_8514</th>\n",
              "      <th>Product_Supermarket_ID_8515</th>\n",
              "      <th>Product_Supermarket_ID_8516</th>\n",
              "      <th>Product_Supermarket_ID_8517</th>\n",
              "      <th>Product_Supermarket_ID_8518</th>\n",
              "      <th>Product_Supermarket_ID_8519</th>\n",
              "      <th>Product_Supermarket_ID_8520</th>\n",
              "      <th>Product_Supermarket_ID_8521</th>\n",
              "    </tr>\n",
              "  </thead>\n",
              "  <tbody>\n",
              "    <tr>\n",
              "      <th>4990</th>\n",
              "      <td>DRA59</td>\n",
              "      <td>CHUKWUDI010</td>\n",
              "      <td>DRA59_CHUKWUDI010</td>\n",
              "      <td>8.270</td>\n",
              "      <td>0.214125</td>\n",
              "      <td>459.98</td>\n",
              "      <td>11</td>\n",
              "      <td>0</td>\n",
              "      <td>0</td>\n",
              "      <td>1</td>\n",
              "      <td>...</td>\n",
              "      <td>0</td>\n",
              "      <td>0</td>\n",
              "      <td>0</td>\n",
              "      <td>0</td>\n",
              "      <td>0</td>\n",
              "      <td>0</td>\n",
              "      <td>0</td>\n",
              "      <td>0</td>\n",
              "      <td>0</td>\n",
              "      <td>0</td>\n",
              "    </tr>\n",
              "    <tr>\n",
              "      <th>4991</th>\n",
              "      <td>DRA59</td>\n",
              "      <td>CHUKWUDI013</td>\n",
              "      <td>DRA59_CHUKWUDI013</td>\n",
              "      <td>8.270</td>\n",
              "      <td>0.127821</td>\n",
              "      <td>464.98</td>\n",
              "      <td>22</td>\n",
              "      <td>0</td>\n",
              "      <td>0</td>\n",
              "      <td>1</td>\n",
              "      <td>...</td>\n",
              "      <td>0</td>\n",
              "      <td>0</td>\n",
              "      <td>0</td>\n",
              "      <td>0</td>\n",
              "      <td>0</td>\n",
              "      <td>0</td>\n",
              "      <td>0</td>\n",
              "      <td>0</td>\n",
              "      <td>0</td>\n",
              "      <td>0</td>\n",
              "    </tr>\n",
              "    <tr>\n",
              "      <th>4992</th>\n",
              "      <td>DRB01</td>\n",
              "      <td>CHUKWUDI013</td>\n",
              "      <td>DRB01_CHUKWUDI013</td>\n",
              "      <td>7.390</td>\n",
              "      <td>0.082171</td>\n",
              "      <td>477.38</td>\n",
              "      <td>22</td>\n",
              "      <td>0</td>\n",
              "      <td>1</td>\n",
              "      <td>0</td>\n",
              "      <td>...</td>\n",
              "      <td>0</td>\n",
              "      <td>0</td>\n",
              "      <td>0</td>\n",
              "      <td>0</td>\n",
              "      <td>0</td>\n",
              "      <td>0</td>\n",
              "      <td>0</td>\n",
              "      <td>0</td>\n",
              "      <td>0</td>\n",
              "      <td>0</td>\n",
              "    </tr>\n",
              "    <tr>\n",
              "      <th>4993</th>\n",
              "      <td>DRB13</td>\n",
              "      <td>CHUKWUDI010</td>\n",
              "      <td>DRB13_CHUKWUDI010</td>\n",
              "      <td>6.115</td>\n",
              "      <td>0.011791</td>\n",
              "      <td>472.63</td>\n",
              "      <td>11</td>\n",
              "      <td>0</td>\n",
              "      <td>0</td>\n",
              "      <td>1</td>\n",
              "      <td>...</td>\n",
              "      <td>0</td>\n",
              "      <td>0</td>\n",
              "      <td>0</td>\n",
              "      <td>0</td>\n",
              "      <td>0</td>\n",
              "      <td>0</td>\n",
              "      <td>0</td>\n",
              "      <td>0</td>\n",
              "      <td>0</td>\n",
              "      <td>0</td>\n",
              "    </tr>\n",
              "    <tr>\n",
              "      <th>4994</th>\n",
              "      <td>DRB13</td>\n",
              "      <td>CHUKWUDI013</td>\n",
              "      <td>DRB13_CHUKWUDI013</td>\n",
              "      <td>6.115</td>\n",
              "      <td>0.007038</td>\n",
              "      <td>473.13</td>\n",
              "      <td>22</td>\n",
              "      <td>0</td>\n",
              "      <td>0</td>\n",
              "      <td>1</td>\n",
              "      <td>...</td>\n",
              "      <td>0</td>\n",
              "      <td>0</td>\n",
              "      <td>0</td>\n",
              "      <td>0</td>\n",
              "      <td>0</td>\n",
              "      <td>0</td>\n",
              "      <td>0</td>\n",
              "      <td>0</td>\n",
              "      <td>0</td>\n",
              "      <td>0</td>\n",
              "    </tr>\n",
              "  </tbody>\n",
              "</table>\n",
              "<p>5 rows × 8546 columns</p>\n",
              "</div>"
            ],
            "text/plain": [
              "     Product_Identifier Supermarket_Identifier Product_Supermarket_Identifier  \\\n",
              "4990              DRA59            CHUKWUDI010              DRA59_CHUKWUDI010   \n",
              "4991              DRA59            CHUKWUDI013              DRA59_CHUKWUDI013   \n",
              "4992              DRB01            CHUKWUDI013              DRB01_CHUKWUDI013   \n",
              "4993              DRB13            CHUKWUDI010              DRB13_CHUKWUDI010   \n",
              "4994              DRB13            CHUKWUDI013              DRB13_CHUKWUDI013   \n",
              "\n",
              "      Product_Weight  Product_Shelf_Visibility  Product_Price  \\\n",
              "4990           8.270                  0.214125         459.98   \n",
              "4991           8.270                  0.127821         464.98   \n",
              "4992           7.390                  0.082171         477.38   \n",
              "4993           6.115                  0.011791         472.63   \n",
              "4994           6.115                  0.007038         473.13   \n",
              "\n",
              "      Supermarket_Age  Product_Fat_Content_0  Product_Fat_Content_1  \\\n",
              "4990               11                      0                      0   \n",
              "4991               22                      0                      0   \n",
              "4992               22                      0                      1   \n",
              "4993               11                      0                      0   \n",
              "4994               22                      0                      0   \n",
              "\n",
              "      Product_Fat_Content_2             ...               \\\n",
              "4990                      1             ...                \n",
              "4991                      1             ...                \n",
              "4992                      0             ...                \n",
              "4993                      1             ...                \n",
              "4994                      1             ...                \n",
              "\n",
              "      Product_Supermarket_ID_8512  Product_Supermarket_ID_8513  \\\n",
              "4990                            0                            0   \n",
              "4991                            0                            0   \n",
              "4992                            0                            0   \n",
              "4993                            0                            0   \n",
              "4994                            0                            0   \n",
              "\n",
              "      Product_Supermarket_ID_8514  Product_Supermarket_ID_8515  \\\n",
              "4990                            0                            0   \n",
              "4991                            0                            0   \n",
              "4992                            0                            0   \n",
              "4993                            0                            0   \n",
              "4994                            0                            0   \n",
              "\n",
              "      Product_Supermarket_ID_8516  Product_Supermarket_ID_8517  \\\n",
              "4990                            0                            0   \n",
              "4991                            0                            0   \n",
              "4992                            0                            0   \n",
              "4993                            0                            0   \n",
              "4994                            0                            0   \n",
              "\n",
              "      Product_Supermarket_ID_8518  Product_Supermarket_ID_8519  \\\n",
              "4990                            0                            0   \n",
              "4991                            0                            0   \n",
              "4992                            0                            0   \n",
              "4993                            0                            0   \n",
              "4994                            0                            0   \n",
              "\n",
              "      Product_Supermarket_ID_8520  Product_Supermarket_ID_8521  \n",
              "4990                            0                            0  \n",
              "4991                            0                            0  \n",
              "4992                            0                            0  \n",
              "4993                            0                            0  \n",
              "4994                            0                            0  \n",
              "\n",
              "[5 rows x 8546 columns]"
            ]
          },
          "metadata": {
            "tags": []
          },
          "execution_count": 37
        }
      ]
    },
    {
      "cell_type": "code",
      "metadata": {
        "id": "-SrXW6gn_uAa"
      },
      "source": [
        "    \n",
        "    # Here we want to create a plot that will help us monitor our model, if it is overfiting or not by plotting the residuals (unpredicted, non-fitted values)\n",
        "    # ... against our predicted values (or the fitted values).\n",
        "    residuals = trainer_predictions - trainer[label]\n",
        "    if(transform == True):\n",
        "        train_mod = train_set.copy(deep = True)\n",
        "        train_mod[label] = train_mod[label].apply(np.log)\n",
        "        trainer_predictions = np.exp(trainer_predictions)\n",
        "\n",
        "    \n",
        "    #residuals vs fitted plot\n",
        "    if(resid == True):\n",
        "        plt.scatter(trainer_predictions, residuals)\n",
        "        plt.xlabel('fitted values')\n",
        "        plt.ylabel('residuals')\n",
        "        plt.show()\n",
        "        \n",
        "        # resid is a boolean that will be false, we will use it to plot and tackle overfitting later on. If the users passes a 'True',\n",
        "# ... it will plot our model's performance (fitted values against non-fitted values -- or residuals).\n",
        "# transorm is also a boolean, will store a calculated exponential of our predictions."
      ],
      "execution_count": null,
      "outputs": []
    },
    {
      "cell_type": "markdown",
      "metadata": {
        "id": "HGFiu2Q4DO1y"
      },
      "source": [
        "Alright the final lap is here. We will be using two different algorithms to create our model, so to save ourselves the stress...\r\n",
        "... of iterating over the same procedure, over and over again, we can just define a function and use its parameters to pass into..\r\n",
        "... our different models. This function will also be able to perform cross-validation, generate the RMSE (Root Mean Squared Error),\r\n",
        "... and also perform submission. (Shout out to Aarshay Jain, I learnt the function from his tutorial)"
      ]
    },
    {
      "cell_type": "code",
      "metadata": {
        "id": "d7b2F_0v_uAa"
      },
      "source": [
        "\n",
        "\n",
        "\n",
        "# Okay, so first off, we will create a variable for our label called, well, 'label'\n",
        "label = 'Product_Supermarket_Sales'\n",
        "\n",
        "#below are just identifiers which we dont want to fit\n",
        "# Since Product_Supermarket_Identifier will be required for submission, we would not want to train it, that will be cheating.\n",
        "No_Fit_Col = ['Product_Identifier','Supermarket_Identifier', 'Product_Supermarket_Identifier']\n",
        "\n",
        "\n",
        "# Import helper libraries and attributes for metrics (RMSE) and performing a cross-validation on our training generated predicitions.\n",
        "from sklearn import metrics\n",
        "from sklearn.model_selection import cross_validate, cross_val_score\n",
        "\n",
        "\n"
      ],
      "execution_count": null,
      "outputs": []
    },
    {
      "cell_type": "markdown",
      "metadata": {
        "id": "xcRDX4P6DVsx"
      },
      "source": [
        "Define a new function and pass in the follwing parameters\r\n",
        "algorithm will be the model algorithm (the variable that will store the model)\r\n",
        "trainer is the training set\r\n",
        "tester is the test set\r\n",
        "predictors are the predictions that will be generated by the model\r\n",
        "label is the column we are trying to predict 'Product_Supermarket_Sales'\r\n",
        "No_Fit_Col is the variable (column) we do not want our model to train on\r\n",
        "CSV_filename is a varaible that will contain the csv file name that will be passed by the user"
      ]
    },
    {
      "cell_type": "code",
      "metadata": {
        "id": "vK__3MnbDTSx"
      },
      "source": [
        "def modelfit(algorithm, trainer, tester, predictors, label, No_Fit_Col, CSV_filename):\r\n",
        "    #Fit the algorithm on the data\r\n",
        "    algorithm.fit(trainer[predictors], trainer[label])\r\n",
        "        \r\n",
        "    #Predict training set:\r\n",
        "    trainer_predictions = algorithm.predict(trainer[predictors])\r\n",
        "    \r\n",
        "    # Here we wil use the `.cross_val_score()` function to perform a cross-validation on our trained predictions.\r\n",
        "    # This is always good practice, so when you aim for a good perfomance by hypertunning a model every time, we will avoid the...\r\n",
        "    # ... problem of our model overfitting (over-learning the test data set)\r\n",
        "    cv_score = cross_val_score(algorithm, trainer[predictors], trainer[label], cv=20, scoring='neg_mean_squared_error')\r\n",
        "    cv_score = np.sqrt(np.abs(cv_score))\r\n",
        "    \r\n",
        "    # Here we write lines of code that will print the metrics of our model's predictions using RMSE, and also the CV report scores too\r\n",
        "    print('\\n')\r\n",
        "    print (\"Model Report\")\r\n",
        "    print (\"RMSE : %.4g\" % np.sqrt(metrics.mean_squared_error(trainer[label].values, trainer_predictions)))\r\n",
        "    print (\"CV Score : Mean - %.4g | Std - %.4g | Min - %.4g | Max - %.4g\" % (np.mean(cv_score),np.std(cv_score),np.min(cv_score),np.max(cv_score)))\r\n",
        "    # It is now time to predict on our test data, so we can confirm our model's efficiency\r\n",
        "    tester[label] = algorithm.predict(tester[predictors])\r\n",
        "    \r\n",
        "    # We can export our submission file including our No_Fit_Col (Product_Supermarket_Identifier) as required by the hosts\r\n",
        "    No_Fit_Col.append(label)\r\n",
        "    submission_file = pd.DataFrame({ x: tester[x] for x in No_Fit_Col})\r\n",
        "    submission_file.to_csv(CSV_filename, index=False)"
      ],
      "execution_count": null,
      "outputs": []
    },
    {
      "cell_type": "markdown",
      "metadata": {
        "id": "s69aRJMIDZXd"
      },
      "source": [
        "Well done so far, now we can build our model using estimators from scikit-learn.\r\n",
        "\r\n",
        "\r\n",
        "I found that 2 algorithms perform quite well; Ridge and RandomForestRegression algorithms\r\n",
        "So let's use them!"
      ]
    },
    {
      "cell_type": "code",
      "metadata": {
        "id": "S7PS3uZL_uAb"
      },
      "source": [
        "# First of all, let's import the estimators from scikit-learn\n",
        "from sklearn.linear_model import Lasso, Ridge\n",
        "from sklearn.ensemble import RandomForestRegressor"
      ],
      "execution_count": null,
      "outputs": []
    },
    {
      "cell_type": "markdown",
      "metadata": {
        "id": "jWu3aEjUDf2I"
      },
      "source": [
        "Now if you are familiar with Data Science and ML, you might wonder why I did not use  the Lasso algorithm. Well I am glad you asked.\r\n",
        "Lasso is a great algorihtm, performs very well, in fact, most times better than Ridge algorithm, but t only performs well...\r\n",
        "... on large data sets, and is computationally intensive. In our case, whereby we have a small data set, the Ridge algorithm will be good.\r\n",
        "\r\n",
        "Hey, I checked the math. The logic works out! And of course, you are always one search away from a great explanation.\r\n",
        "\r\n",
        "Note that the model complexity decreases with increase in the values of alpha, so it is best to choose alpha wisely\r\n",
        "\r\n",
        "Set a list comprehension for your predictor variables, the predictions are stored in this variable, and all other columns excluded.\r\n",
        "The predictor will thus only contain our predicted lable and the 'No_Fit_Col' columns (the identifier columns)"
      ]
    },
    {
      "cell_type": "code",
      "metadata": {
        "collapsed": true,
        "id": "vTq2WmO4_uAc",
        "outputId": "bc5108e7-5be9-4a40-cf6c-16251bbe1b6e"
      },
      "source": [
        "predictors = [x for x in train_set.columns if x not in [label]+ No_Fit_Col]\n",
        "\n",
        "# Call the algorithm, pass in the arguments and assign it to 'algorithm_1' variable\n",
        "algorithm_1 = Ridge(alpha=3,normalize=True)\n",
        "\n",
        "# Use the modelfit function we created ealier and its parameters.\n",
        "modelfit(algorithm_1, train_set, test_set, predictors, label, No_Fit_Col, 'SubmissionFile.csv')\n",
        "\n",
        "# This might take a while to run, to improve your model, you might try reducing the alpha a little (around 2, it will cause longer training time)"
      ],
      "execution_count": null,
      "outputs": [
        {
          "output_type": "stream",
          "text": [
            "\n",
            "\n",
            "Model Report\n",
            "RMSE : 2852\n",
            "CV Score : Mean - 3795 | Std - 299.9 | Min - 3115 | Max - 4480\n"
          ],
          "name": "stdout"
        },
        {
          "output_type": "stream",
          "text": [
            "C:\\Users\\PC\\Anaconda3\\envs\\tfp3.6\\lib\\site-packages\\ipykernel_launcher.py:50: SettingWithCopyWarning: \n",
            "A value is trying to be set on a copy of a slice from a DataFrame.\n",
            "Try using .loc[row_indexer,col_indexer] = value instead\n",
            "\n",
            "See the caveats in the documentation: http://pandas.pydata.org/pandas-docs/stable/indexing.html#indexing-view-versus-copy\n"
          ],
          "name": "stderr"
        },
        {
          "output_type": "execute_result",
          "data": {
            "text/plain": [
              "<matplotlib.axes._subplots.AxesSubplot at 0x2cb3e991eb8>"
            ]
          },
          "metadata": {
            "tags": []
          },
          "execution_count": 66
        },
        {
          "output_type": "display_data",
          "data": {
            "image/png": "[encoded data removed]",
            "text/plain": [
              "<Figure size 720x432 with 1 Axes>"
            ]
          },
          "metadata": {
            "tags": []
          }
        }
      ]
    },
    {
      "cell_type": "markdown",
      "metadata": {
        "id": "Ze2ajmX-Dm_r"
      },
      "source": [
        "Using RandomForestRegressor algorithm...\r\n",
        "\r\n",
        "\r\n",
        "n_estimators is the number of trees in the forest. Higher number of trees ensures that the model doesn't overfit the data, \r\n",
        "... it also increases model's complexity and ability to underfit the data.\r\n",
        "max_depth is the maximum depth of the tree. Higher number also increases model's complexity\r\n",
        "min_samples_leaf is the minimum number of samples required to be at a leaf node; higher min_samples_leaf penalizes unwanted features, and reduces model's complexity.\r\n",
        "The number of jobs to run in parallel for both fit and predict."
      ]
    },
    {
      "cell_type": "code",
      "metadata": {
        "id": "pml3ojYI_uAc",
        "outputId": "ef9c2b4a-c3b8-405b-ced4-54b25a6dda0e"
      },
      "source": [
        "\n",
        "\n",
        "# Call the algorithm, pass in the arguments and assign it to 'algorithm_2' variable\n",
        "algorithm_2 = RandomForestRegressor(n_estimators=500,max_depth=10, min_samples_leaf=80,n_jobs=6)\n",
        "\n",
        "# Use the modelfit function we created ealier and its parameters.\n",
        "modelfit(algorithm_2, train_set, test_set, predictors, label, No_Fit_Col, 'SubmissionFile1.csv')\n",
        "\n",
        "# Optional\n",
        "#coef6 = pd.Series(alg6.feature_importances_, predictors).sort_values(ascending=False)\n",
        "#coef6.plot(kind='bar', title='Feature Importances')\n",
        "\n",
        "\n",
        "# I found out that you can imorove your RMSE by reducing the min_samples_leaf, but be careful, you might run the risk of overfitting,...\n",
        "# ... with too much reduction (typically below 50 is a bad idea), because higher min_samples_leaf penalizes unwanted features, and reduces model's complexity."
      ],
      "execution_count": null,
      "outputs": [
        {
          "output_type": "stream",
          "text": [
            "\n",
            "\n",
            "Model Report\n",
            "RMSE : 2862\n",
            "CV Score : Mean - 2921 | Std - 215.8 | Min - 2536 | Max - 3341\n"
          ],
          "name": "stdout"
        },
        {
          "output_type": "stream",
          "text": [
            "C:\\Users\\PC\\Anaconda3\\envs\\tfp3.6\\lib\\site-packages\\ipykernel_launcher.py:50: SettingWithCopyWarning: \n",
            "A value is trying to be set on a copy of a slice from a DataFrame.\n",
            "Try using .loc[row_indexer,col_indexer] = value instead\n",
            "\n",
            "See the caveats in the documentation: http://pandas.pydata.org/pandas-docs/stable/indexing.html#indexing-view-versus-copy\n"
          ],
          "name": "stderr"
        }
      ]
    },
    {
      "cell_type": "markdown",
      "metadata": {
        "id": "YZaiivLqDtHS"
      },
      "source": [
        "Check your 'SubmissionFile1.csv' or 'SubmissionFile.csv' for your predictions. You mgiht want to get rid of 'Product_Identifier'...\r\n",
        "... and 'Supermarket_Identifier' columns if you are working on the predictions and you want to submit it to Kaggle (based of their sample submission pattern)"
      ]
    },
    {
      "cell_type": "markdown",
      "metadata": {
        "id": "2ahdUsks_uAd"
      },
      "source": [
        "Yay! You made it. This comes the end of our tutorial. I hope you enjoyed it like I did. If this tutorial helped you alot you can give a shout out on Twitter @nerdCyberArtist. Also if you ask any questions you can reach me too."
      ]
    }
  ]
}